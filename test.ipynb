{
 "cells": [
  {
   "cell_type": "code",
   "execution_count": 1,
   "id": "00d2501e",
   "metadata": {},
   "outputs": [
    {
     "name": "stderr",
     "output_type": "stream",
     "text": [
      "[nltk_data] Downloading package punkt_tab to\n",
      "[nltk_data]     /home/codespace/nltk_data...\n",
      "[nltk_data]   Package punkt_tab is already up-to-date!\n",
      "[nltk_data] Downloading package stopwords to\n",
      "[nltk_data]     /home/codespace/nltk_data...\n",
      "[nltk_data]   Package stopwords is already up-to-date!\n"
     ]
    }
   ],
   "source": [
    "from src.data.preprocess import text_preprocessing"
   ]
  },
  {
   "cell_type": "code",
   "execution_count": 2,
   "id": "431e0fa0",
   "metadata": {},
   "outputs": [
    {
     "name": "stdout",
     "output_type": "stream",
     "text": [
      "[PREPROCESS] Data preprocessing completed. Cleaned data saved to data/test.csv\n"
     ]
    }
   ],
   "source": [
    "import pandas as pd\n",
    "\n",
    "input_path = 'data/JENpTmMQBQY_comments.csv'\n",
    "output_path = 'data/test.csv'\n",
    "\n",
    "text_preprocessing(input_path=input_path, output_path=output_path)"
   ]
  },
  {
   "cell_type": "code",
   "execution_count": 3,
   "id": "664bfc00",
   "metadata": {},
   "outputs": [],
   "source": [
    "df = pd.read_csv('data/test.csv')"
   ]
  },
  {
   "cell_type": "code",
   "execution_count": 4,
   "id": "12d4d3c6",
   "metadata": {},
   "outputs": [
    {
     "data": {
      "text/html": [
       "<div>\n",
       "<style scoped>\n",
       "    .dataframe tbody tr th:only-of-type {\n",
       "        vertical-align: middle;\n",
       "    }\n",
       "\n",
       "    .dataframe tbody tr th {\n",
       "        vertical-align: top;\n",
       "    }\n",
       "\n",
       "    .dataframe thead th {\n",
       "        text-align: right;\n",
       "    }\n",
       "</style>\n",
       "<table border=\"1\" class=\"dataframe\">\n",
       "  <thead>\n",
       "    <tr style=\"text-align: right;\">\n",
       "      <th></th>\n",
       "      <th>video_id</th>\n",
       "      <th>comment_id</th>\n",
       "      <th>author_display_name</th>\n",
       "      <th>text</th>\n",
       "      <th>published_at</th>\n",
       "      <th>like_count</th>\n",
       "      <th>clean_text</th>\n",
       "      <th>word_count</th>\n",
       "    </tr>\n",
       "  </thead>\n",
       "  <tbody>\n",
       "    <tr>\n",
       "      <th>0</th>\n",
       "      <td>JENpTmMQBQY</td>\n",
       "      <td>UgzNnCUp1VyatqutbCh4AaABAg</td>\n",
       "      <td>@gorbyirawanmade7241</td>\n",
       "      <td>Jangan pisahkan mereka dari cintanya karena tu...</td>\n",
       "      <td>2025-05-20T13:43:54Z</td>\n",
       "      <td>0</td>\n",
       "      <td>pisahkan cintanya tuhan pisahkan tuhannya cinta</td>\n",
       "      <td>6</td>\n",
       "    </tr>\n",
       "    <tr>\n",
       "      <th>1</th>\n",
       "      <td>JENpTmMQBQY</td>\n",
       "      <td>UgwZm3VDkAAlEIxu-fp4AaABAg</td>\n",
       "      <td>@wahidafriansyah9459</td>\n",
       "      <td>2 tahun udah denger lagu ini knpa baru viralny...</td>\n",
       "      <td>2025-05-20T13:07:07Z</td>\n",
       "      <td>0</td>\n",
       "      <td>dengar lagu viralnya srkng ya wkwk</td>\n",
       "      <td>6</td>\n",
       "    </tr>\n",
       "    <tr>\n",
       "      <th>2</th>\n",
       "      <td>JENpTmMQBQY</td>\n",
       "      <td>Ugx2GnBFHKLsETKPInp4AaABAg</td>\n",
       "      <td>@MeliyantiYanti-s9w</td>\n",
       "      <td>Baca komen\" disini 😢 \\nJadi mengenang pernah p...</td>\n",
       "      <td>2025-05-20T13:01:18Z</td>\n",
       "      <td>0</td>\n",
       "      <td>baca komen mengenang pacaran beda agama menika...</td>\n",
       "      <td>10</td>\n",
       "    </tr>\n",
       "    <tr>\n",
       "      <th>3</th>\n",
       "      <td>JENpTmMQBQY</td>\n",
       "      <td>UgxyU7e_d3jRqz_MFXF4AaABAg</td>\n",
       "      <td>@mikomiko3176</td>\n",
       "      <td>Kau yang disana pejamkanlah matamu\\nGumamkanla...</td>\n",
       "      <td>2025-05-20T12:57:22Z</td>\n",
       "      <td>0</td>\n",
       "      <td>kau disana pejamkanlah matamu gumamkanlah doa ...</td>\n",
       "      <td>14</td>\n",
       "    </tr>\n",
       "    <tr>\n",
       "      <th>4</th>\n",
       "      <td>JENpTmMQBQY</td>\n",
       "      <td>Ugz7D11enF5ZYCun5Yd4AaABAg</td>\n",
       "      <td>@neladira</td>\n",
       "      <td>dapit canggg nani ga suki joko minto</td>\n",
       "      <td>2025-05-20T12:49:41Z</td>\n",
       "      <td>0</td>\n",
       "      <td>dapit cang nani suki joko minto</td>\n",
       "      <td>6</td>\n",
       "    </tr>\n",
       "  </tbody>\n",
       "</table>\n",
       "</div>"
      ],
      "text/plain": [
       "      video_id                  comment_id   author_display_name  \\\n",
       "0  JENpTmMQBQY  UgzNnCUp1VyatqutbCh4AaABAg  @gorbyirawanmade7241   \n",
       "1  JENpTmMQBQY  UgwZm3VDkAAlEIxu-fp4AaABAg  @wahidafriansyah9459   \n",
       "2  JENpTmMQBQY  Ugx2GnBFHKLsETKPInp4AaABAg   @MeliyantiYanti-s9w   \n",
       "3  JENpTmMQBQY  UgxyU7e_d3jRqz_MFXF4AaABAg         @mikomiko3176   \n",
       "4  JENpTmMQBQY  Ugz7D11enF5ZYCun5Yd4AaABAg             @neladira   \n",
       "\n",
       "                                                text          published_at  \\\n",
       "0  Jangan pisahkan mereka dari cintanya karena tu...  2025-05-20T13:43:54Z   \n",
       "1  2 tahun udah denger lagu ini knpa baru viralny...  2025-05-20T13:07:07Z   \n",
       "2  Baca komen\" disini 😢 \\nJadi mengenang pernah p...  2025-05-20T13:01:18Z   \n",
       "3  Kau yang disana pejamkanlah matamu\\nGumamkanla...  2025-05-20T12:57:22Z   \n",
       "4               dapit canggg nani ga suki joko minto  2025-05-20T12:49:41Z   \n",
       "\n",
       "   like_count                                         clean_text  word_count  \n",
       "0           0    pisahkan cintanya tuhan pisahkan tuhannya cinta           6  \n",
       "1           0                 dengar lagu viralnya srkng ya wkwk           6  \n",
       "2           0  baca komen mengenang pacaran beda agama menika...          10  \n",
       "3           0  kau disana pejamkanlah matamu gumamkanlah doa ...          14  \n",
       "4           0                    dapit cang nani suki joko minto           6  "
      ]
     },
     "execution_count": 4,
     "metadata": {},
     "output_type": "execute_result"
    }
   ],
   "source": [
    "df.head()"
   ]
  },
  {
   "cell_type": "code",
   "execution_count": null,
   "id": "ff8221ac",
   "metadata": {},
   "outputs": [],
   "source": []
  }
 ],
 "metadata": {
  "kernelspec": {
   "display_name": "Python 3",
   "language": "python",
   "name": "python3"
  },
  "language_info": {
   "codemirror_mode": {
    "name": "ipython",
    "version": 3
   },
   "file_extension": ".py",
   "mimetype": "text/x-python",
   "name": "python",
   "nbconvert_exporter": "python",
   "pygments_lexer": "ipython3",
   "version": "3.12.1"
  }
 },
 "nbformat": 4,
 "nbformat_minor": 5
}
